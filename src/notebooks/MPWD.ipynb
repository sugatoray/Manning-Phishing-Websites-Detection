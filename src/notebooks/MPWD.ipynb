{
  "nbformat": 4,
  "nbformat_minor": 0,
  "metadata": {
    "colab": {
      "name": "MPWD.ipynb",
      "provenance": [],
      "collapsed_sections": [
        "U4D5d-1ZVNVY",
        "92Wb1oHEztoO",
        "vy8z46WFtQr1",
        "dVbkvc2ytYbT",
        "rHJOJ0VYvxRy"
      ],
      "toc_visible": true,
      "mount_file_id": "1HGPo5hFbI7tGQ5ricQ00Qt4jBo1ubZRa",
      "authorship_tag": "ABX9TyPU6CLXfs5N4f0Fs72RAKMc",
      "include_colab_link": true
    },
    "kernelspec": {
      "name": "python3",
      "display_name": "Python 3"
    },
    "widgets": {
      "application/vnd.jupyter.widget-state+json": {
        "10fb5638ddcc4bad85d4846223101af1": {
          "model_module": "@jupyter-widgets/controls",
          "model_name": "HBoxModel",
          "state": {
            "_view_name": "HBoxView",
            "_dom_classes": [],
            "_model_name": "HBoxModel",
            "_view_module": "@jupyter-widgets/controls",
            "_model_module_version": "1.5.0",
            "_view_count": null,
            "_view_module_version": "1.5.0",
            "box_style": "",
            "layout": "IPY_MODEL_275384e66e2c4784be76b1382d869c2e",
            "_model_module": "@jupyter-widgets/controls",
            "children": [
              "IPY_MODEL_d7b51055f40e485081c8e07222b14736",
              "IPY_MODEL_5444b6f46e8c469695ee226010354821"
            ]
          }
        },
        "275384e66e2c4784be76b1382d869c2e": {
          "model_module": "@jupyter-widgets/base",
          "model_name": "LayoutModel",
          "state": {
            "_view_name": "LayoutView",
            "grid_template_rows": null,
            "right": null,
            "justify_content": null,
            "_view_module": "@jupyter-widgets/base",
            "overflow": null,
            "_model_module_version": "1.2.0",
            "_view_count": null,
            "flex_flow": null,
            "width": null,
            "min_width": null,
            "border": null,
            "align_items": null,
            "bottom": null,
            "_model_module": "@jupyter-widgets/base",
            "top": null,
            "grid_column": null,
            "overflow_y": null,
            "overflow_x": null,
            "grid_auto_flow": null,
            "grid_area": null,
            "grid_template_columns": null,
            "flex": null,
            "_model_name": "LayoutModel",
            "justify_items": null,
            "grid_row": null,
            "max_height": null,
            "align_content": null,
            "visibility": null,
            "align_self": null,
            "height": null,
            "min_height": null,
            "padding": null,
            "grid_auto_rows": null,
            "grid_gap": null,
            "max_width": null,
            "order": null,
            "_view_module_version": "1.2.0",
            "grid_template_areas": null,
            "object_position": null,
            "object_fit": null,
            "grid_auto_columns": null,
            "margin": null,
            "display": null,
            "left": null
          }
        },
        "d7b51055f40e485081c8e07222b14736": {
          "model_module": "@jupyter-widgets/controls",
          "model_name": "FloatProgressModel",
          "state": {
            "_view_name": "ProgressView",
            "style": "IPY_MODEL_41768869a02540249b0d4e5026748555",
            "_dom_classes": [],
            "description": "Summarize dataset: ",
            "_model_name": "FloatProgressModel",
            "bar_style": "success",
            "max": 43,
            "_view_module": "@jupyter-widgets/controls",
            "_model_module_version": "1.5.0",
            "value": 43,
            "_view_count": null,
            "_view_module_version": "1.5.0",
            "orientation": "horizontal",
            "min": 0,
            "description_tooltip": null,
            "_model_module": "@jupyter-widgets/controls",
            "layout": "IPY_MODEL_da59568d871443249ab78b4f5db86dde"
          }
        },
        "5444b6f46e8c469695ee226010354821": {
          "model_module": "@jupyter-widgets/controls",
          "model_name": "HTMLModel",
          "state": {
            "_view_name": "HTMLView",
            "style": "IPY_MODEL_ba31ae8f19354bddac88c623e2b2cb55",
            "_dom_classes": [],
            "description": "",
            "_model_name": "HTMLModel",
            "placeholder": "​",
            "_view_module": "@jupyter-widgets/controls",
            "_model_module_version": "1.5.0",
            "value": " 45/? [00:15&lt;00:00,  2.97it/s, Completed]",
            "_view_count": null,
            "_view_module_version": "1.5.0",
            "description_tooltip": null,
            "_model_module": "@jupyter-widgets/controls",
            "layout": "IPY_MODEL_aff54fe0e367447eaf59849ea785718b"
          }
        },
        "41768869a02540249b0d4e5026748555": {
          "model_module": "@jupyter-widgets/controls",
          "model_name": "ProgressStyleModel",
          "state": {
            "_view_name": "StyleView",
            "_model_name": "ProgressStyleModel",
            "description_width": "initial",
            "_view_module": "@jupyter-widgets/base",
            "_model_module_version": "1.5.0",
            "_view_count": null,
            "_view_module_version": "1.2.0",
            "bar_color": null,
            "_model_module": "@jupyter-widgets/controls"
          }
        },
        "da59568d871443249ab78b4f5db86dde": {
          "model_module": "@jupyter-widgets/base",
          "model_name": "LayoutModel",
          "state": {
            "_view_name": "LayoutView",
            "grid_template_rows": null,
            "right": null,
            "justify_content": null,
            "_view_module": "@jupyter-widgets/base",
            "overflow": null,
            "_model_module_version": "1.2.0",
            "_view_count": null,
            "flex_flow": null,
            "width": null,
            "min_width": null,
            "border": null,
            "align_items": null,
            "bottom": null,
            "_model_module": "@jupyter-widgets/base",
            "top": null,
            "grid_column": null,
            "overflow_y": null,
            "overflow_x": null,
            "grid_auto_flow": null,
            "grid_area": null,
            "grid_template_columns": null,
            "flex": null,
            "_model_name": "LayoutModel",
            "justify_items": null,
            "grid_row": null,
            "max_height": null,
            "align_content": null,
            "visibility": null,
            "align_self": null,
            "height": null,
            "min_height": null,
            "padding": null,
            "grid_auto_rows": null,
            "grid_gap": null,
            "max_width": null,
            "order": null,
            "_view_module_version": "1.2.0",
            "grid_template_areas": null,
            "object_position": null,
            "object_fit": null,
            "grid_auto_columns": null,
            "margin": null,
            "display": null,
            "left": null
          }
        },
        "ba31ae8f19354bddac88c623e2b2cb55": {
          "model_module": "@jupyter-widgets/controls",
          "model_name": "DescriptionStyleModel",
          "state": {
            "_view_name": "StyleView",
            "_model_name": "DescriptionStyleModel",
            "description_width": "",
            "_view_module": "@jupyter-widgets/base",
            "_model_module_version": "1.5.0",
            "_view_count": null,
            "_view_module_version": "1.2.0",
            "_model_module": "@jupyter-widgets/controls"
          }
        },
        "aff54fe0e367447eaf59849ea785718b": {
          "model_module": "@jupyter-widgets/base",
          "model_name": "LayoutModel",
          "state": {
            "_view_name": "LayoutView",
            "grid_template_rows": null,
            "right": null,
            "justify_content": null,
            "_view_module": "@jupyter-widgets/base",
            "overflow": null,
            "_model_module_version": "1.2.0",
            "_view_count": null,
            "flex_flow": null,
            "width": null,
            "min_width": null,
            "border": null,
            "align_items": null,
            "bottom": null,
            "_model_module": "@jupyter-widgets/base",
            "top": null,
            "grid_column": null,
            "overflow_y": null,
            "overflow_x": null,
            "grid_auto_flow": null,
            "grid_area": null,
            "grid_template_columns": null,
            "flex": null,
            "_model_name": "LayoutModel",
            "justify_items": null,
            "grid_row": null,
            "max_height": null,
            "align_content": null,
            "visibility": null,
            "align_self": null,
            "height": null,
            "min_height": null,
            "padding": null,
            "grid_auto_rows": null,
            "grid_gap": null,
            "max_width": null,
            "order": null,
            "_view_module_version": "1.2.0",
            "grid_template_areas": null,
            "object_position": null,
            "object_fit": null,
            "grid_auto_columns": null,
            "margin": null,
            "display": null,
            "left": null
          }
        },
        "67c69a1cb3fe4d2b8a5b8b5e24692116": {
          "model_module": "@jupyter-widgets/controls",
          "model_name": "HBoxModel",
          "state": {
            "_view_name": "HBoxView",
            "_dom_classes": [],
            "_model_name": "HBoxModel",
            "_view_module": "@jupyter-widgets/controls",
            "_model_module_version": "1.5.0",
            "_view_count": null,
            "_view_module_version": "1.5.0",
            "box_style": "",
            "layout": "IPY_MODEL_bf072861e9ec45ee98b545556c9abc3d",
            "_model_module": "@jupyter-widgets/controls",
            "children": [
              "IPY_MODEL_ba6422dc0a484c12bdf7c47ddd5317ea",
              "IPY_MODEL_26efcf15310d4fe3a61256154f4a9b13"
            ]
          }
        },
        "bf072861e9ec45ee98b545556c9abc3d": {
          "model_module": "@jupyter-widgets/base",
          "model_name": "LayoutModel",
          "state": {
            "_view_name": "LayoutView",
            "grid_template_rows": null,
            "right": null,
            "justify_content": null,
            "_view_module": "@jupyter-widgets/base",
            "overflow": null,
            "_model_module_version": "1.2.0",
            "_view_count": null,
            "flex_flow": null,
            "width": null,
            "min_width": null,
            "border": null,
            "align_items": null,
            "bottom": null,
            "_model_module": "@jupyter-widgets/base",
            "top": null,
            "grid_column": null,
            "overflow_y": null,
            "overflow_x": null,
            "grid_auto_flow": null,
            "grid_area": null,
            "grid_template_columns": null,
            "flex": null,
            "_model_name": "LayoutModel",
            "justify_items": null,
            "grid_row": null,
            "max_height": null,
            "align_content": null,
            "visibility": null,
            "align_self": null,
            "height": null,
            "min_height": null,
            "padding": null,
            "grid_auto_rows": null,
            "grid_gap": null,
            "max_width": null,
            "order": null,
            "_view_module_version": "1.2.0",
            "grid_template_areas": null,
            "object_position": null,
            "object_fit": null,
            "grid_auto_columns": null,
            "margin": null,
            "display": null,
            "left": null
          }
        },
        "ba6422dc0a484c12bdf7c47ddd5317ea": {
          "model_module": "@jupyter-widgets/controls",
          "model_name": "FloatProgressModel",
          "state": {
            "_view_name": "ProgressView",
            "style": "IPY_MODEL_3ceb1ad58c1b42209f00df9d8a6ee33f",
            "_dom_classes": [],
            "description": "Generate report structure: 100%",
            "_model_name": "FloatProgressModel",
            "bar_style": "success",
            "max": 1,
            "_view_module": "@jupyter-widgets/controls",
            "_model_module_version": "1.5.0",
            "value": 1,
            "_view_count": null,
            "_view_module_version": "1.5.0",
            "orientation": "horizontal",
            "min": 0,
            "description_tooltip": null,
            "_model_module": "@jupyter-widgets/controls",
            "layout": "IPY_MODEL_f418671912c14751ab33276c4aa4a8f7"
          }
        },
        "26efcf15310d4fe3a61256154f4a9b13": {
          "model_module": "@jupyter-widgets/controls",
          "model_name": "HTMLModel",
          "state": {
            "_view_name": "HTMLView",
            "style": "IPY_MODEL_cb088c84e1a24ce5818eb0fe9638093d",
            "_dom_classes": [],
            "description": "",
            "_model_name": "HTMLModel",
            "placeholder": "​",
            "_view_module": "@jupyter-widgets/controls",
            "_model_module_version": "1.5.0",
            "value": " 1/1 [00:07&lt;00:00,  7.95s/it]",
            "_view_count": null,
            "_view_module_version": "1.5.0",
            "description_tooltip": null,
            "_model_module": "@jupyter-widgets/controls",
            "layout": "IPY_MODEL_28898000b4cb4889a83c4bb4e3396b3b"
          }
        },
        "3ceb1ad58c1b42209f00df9d8a6ee33f": {
          "model_module": "@jupyter-widgets/controls",
          "model_name": "ProgressStyleModel",
          "state": {
            "_view_name": "StyleView",
            "_model_name": "ProgressStyleModel",
            "description_width": "initial",
            "_view_module": "@jupyter-widgets/base",
            "_model_module_version": "1.5.0",
            "_view_count": null,
            "_view_module_version": "1.2.0",
            "bar_color": null,
            "_model_module": "@jupyter-widgets/controls"
          }
        },
        "f418671912c14751ab33276c4aa4a8f7": {
          "model_module": "@jupyter-widgets/base",
          "model_name": "LayoutModel",
          "state": {
            "_view_name": "LayoutView",
            "grid_template_rows": null,
            "right": null,
            "justify_content": null,
            "_view_module": "@jupyter-widgets/base",
            "overflow": null,
            "_model_module_version": "1.2.0",
            "_view_count": null,
            "flex_flow": null,
            "width": null,
            "min_width": null,
            "border": null,
            "align_items": null,
            "bottom": null,
            "_model_module": "@jupyter-widgets/base",
            "top": null,
            "grid_column": null,
            "overflow_y": null,
            "overflow_x": null,
            "grid_auto_flow": null,
            "grid_area": null,
            "grid_template_columns": null,
            "flex": null,
            "_model_name": "LayoutModel",
            "justify_items": null,
            "grid_row": null,
            "max_height": null,
            "align_content": null,
            "visibility": null,
            "align_self": null,
            "height": null,
            "min_height": null,
            "padding": null,
            "grid_auto_rows": null,
            "grid_gap": null,
            "max_width": null,
            "order": null,
            "_view_module_version": "1.2.0",
            "grid_template_areas": null,
            "object_position": null,
            "object_fit": null,
            "grid_auto_columns": null,
            "margin": null,
            "display": null,
            "left": null
          }
        },
        "cb088c84e1a24ce5818eb0fe9638093d": {
          "model_module": "@jupyter-widgets/controls",
          "model_name": "DescriptionStyleModel",
          "state": {
            "_view_name": "StyleView",
            "_model_name": "DescriptionStyleModel",
            "description_width": "",
            "_view_module": "@jupyter-widgets/base",
            "_model_module_version": "1.5.0",
            "_view_count": null,
            "_view_module_version": "1.2.0",
            "_model_module": "@jupyter-widgets/controls"
          }
        },
        "28898000b4cb4889a83c4bb4e3396b3b": {
          "model_module": "@jupyter-widgets/base",
          "model_name": "LayoutModel",
          "state": {
            "_view_name": "LayoutView",
            "grid_template_rows": null,
            "right": null,
            "justify_content": null,
            "_view_module": "@jupyter-widgets/base",
            "overflow": null,
            "_model_module_version": "1.2.0",
            "_view_count": null,
            "flex_flow": null,
            "width": null,
            "min_width": null,
            "border": null,
            "align_items": null,
            "bottom": null,
            "_model_module": "@jupyter-widgets/base",
            "top": null,
            "grid_column": null,
            "overflow_y": null,
            "overflow_x": null,
            "grid_auto_flow": null,
            "grid_area": null,
            "grid_template_columns": null,
            "flex": null,
            "_model_name": "LayoutModel",
            "justify_items": null,
            "grid_row": null,
            "max_height": null,
            "align_content": null,
            "visibility": null,
            "align_self": null,
            "height": null,
            "min_height": null,
            "padding": null,
            "grid_auto_rows": null,
            "grid_gap": null,
            "max_width": null,
            "order": null,
            "_view_module_version": "1.2.0",
            "grid_template_areas": null,
            "object_position": null,
            "object_fit": null,
            "grid_auto_columns": null,
            "margin": null,
            "display": null,
            "left": null
          }
        },
        "77d1b57a05dd41d6aa7031bc51f4a8ae": {
          "model_module": "@jupyter-widgets/controls",
          "model_name": "HBoxModel",
          "state": {
            "_view_name": "HBoxView",
            "_dom_classes": [],
            "_model_name": "HBoxModel",
            "_view_module": "@jupyter-widgets/controls",
            "_model_module_version": "1.5.0",
            "_view_count": null,
            "_view_module_version": "1.5.0",
            "box_style": "",
            "layout": "IPY_MODEL_b5ea3d7bd3e645bfbab44eda97434d5f",
            "_model_module": "@jupyter-widgets/controls",
            "children": [
              "IPY_MODEL_594f0a755f4b46fbad49f818dedae5b1",
              "IPY_MODEL_0565364fc37f41ebafd9ac68b9154aa7"
            ]
          }
        },
        "b5ea3d7bd3e645bfbab44eda97434d5f": {
          "model_module": "@jupyter-widgets/base",
          "model_name": "LayoutModel",
          "state": {
            "_view_name": "LayoutView",
            "grid_template_rows": null,
            "right": null,
            "justify_content": null,
            "_view_module": "@jupyter-widgets/base",
            "overflow": null,
            "_model_module_version": "1.2.0",
            "_view_count": null,
            "flex_flow": null,
            "width": null,
            "min_width": null,
            "border": null,
            "align_items": null,
            "bottom": null,
            "_model_module": "@jupyter-widgets/base",
            "top": null,
            "grid_column": null,
            "overflow_y": null,
            "overflow_x": null,
            "grid_auto_flow": null,
            "grid_area": null,
            "grid_template_columns": null,
            "flex": null,
            "_model_name": "LayoutModel",
            "justify_items": null,
            "grid_row": null,
            "max_height": null,
            "align_content": null,
            "visibility": null,
            "align_self": null,
            "height": null,
            "min_height": null,
            "padding": null,
            "grid_auto_rows": null,
            "grid_gap": null,
            "max_width": null,
            "order": null,
            "_view_module_version": "1.2.0",
            "grid_template_areas": null,
            "object_position": null,
            "object_fit": null,
            "grid_auto_columns": null,
            "margin": null,
            "display": null,
            "left": null
          }
        },
        "594f0a755f4b46fbad49f818dedae5b1": {
          "model_module": "@jupyter-widgets/controls",
          "model_name": "FloatProgressModel",
          "state": {
            "_view_name": "ProgressView",
            "style": "IPY_MODEL_46bb02c538da4eb4a7f93b9341e7da29",
            "_dom_classes": [],
            "description": "Render HTML: 100%",
            "_model_name": "FloatProgressModel",
            "bar_style": "success",
            "max": 1,
            "_view_module": "@jupyter-widgets/controls",
            "_model_module_version": "1.5.0",
            "value": 1,
            "_view_count": null,
            "_view_module_version": "1.5.0",
            "orientation": "horizontal",
            "min": 0,
            "description_tooltip": null,
            "_model_module": "@jupyter-widgets/controls",
            "layout": "IPY_MODEL_f88422ed2f374acf88d9f47f3bbc4591"
          }
        },
        "0565364fc37f41ebafd9ac68b9154aa7": {
          "model_module": "@jupyter-widgets/controls",
          "model_name": "HTMLModel",
          "state": {
            "_view_name": "HTMLView",
            "style": "IPY_MODEL_f8dce0b8fb40418f8c83d27eab96f87a",
            "_dom_classes": [],
            "description": "",
            "_model_name": "HTMLModel",
            "placeholder": "​",
            "_view_module": "@jupyter-widgets/controls",
            "_model_module_version": "1.5.0",
            "value": " 1/1 [05:40&lt;00:00, 340.30s/it]",
            "_view_count": null,
            "_view_module_version": "1.5.0",
            "description_tooltip": null,
            "_model_module": "@jupyter-widgets/controls",
            "layout": "IPY_MODEL_2073e87f5c204fe28ae66c3d1fc1bf99"
          }
        },
        "46bb02c538da4eb4a7f93b9341e7da29": {
          "model_module": "@jupyter-widgets/controls",
          "model_name": "ProgressStyleModel",
          "state": {
            "_view_name": "StyleView",
            "_model_name": "ProgressStyleModel",
            "description_width": "initial",
            "_view_module": "@jupyter-widgets/base",
            "_model_module_version": "1.5.0",
            "_view_count": null,
            "_view_module_version": "1.2.0",
            "bar_color": null,
            "_model_module": "@jupyter-widgets/controls"
          }
        },
        "f88422ed2f374acf88d9f47f3bbc4591": {
          "model_module": "@jupyter-widgets/base",
          "model_name": "LayoutModel",
          "state": {
            "_view_name": "LayoutView",
            "grid_template_rows": null,
            "right": null,
            "justify_content": null,
            "_view_module": "@jupyter-widgets/base",
            "overflow": null,
            "_model_module_version": "1.2.0",
            "_view_count": null,
            "flex_flow": null,
            "width": null,
            "min_width": null,
            "border": null,
            "align_items": null,
            "bottom": null,
            "_model_module": "@jupyter-widgets/base",
            "top": null,
            "grid_column": null,
            "overflow_y": null,
            "overflow_x": null,
            "grid_auto_flow": null,
            "grid_area": null,
            "grid_template_columns": null,
            "flex": null,
            "_model_name": "LayoutModel",
            "justify_items": null,
            "grid_row": null,
            "max_height": null,
            "align_content": null,
            "visibility": null,
            "align_self": null,
            "height": null,
            "min_height": null,
            "padding": null,
            "grid_auto_rows": null,
            "grid_gap": null,
            "max_width": null,
            "order": null,
            "_view_module_version": "1.2.0",
            "grid_template_areas": null,
            "object_position": null,
            "object_fit": null,
            "grid_auto_columns": null,
            "margin": null,
            "display": null,
            "left": null
          }
        },
        "f8dce0b8fb40418f8c83d27eab96f87a": {
          "model_module": "@jupyter-widgets/controls",
          "model_name": "DescriptionStyleModel",
          "state": {
            "_view_name": "StyleView",
            "_model_name": "DescriptionStyleModel",
            "description_width": "",
            "_view_module": "@jupyter-widgets/base",
            "_model_module_version": "1.5.0",
            "_view_count": null,
            "_view_module_version": "1.2.0",
            "_model_module": "@jupyter-widgets/controls"
          }
        },
        "2073e87f5c204fe28ae66c3d1fc1bf99": {
          "model_module": "@jupyter-widgets/base",
          "model_name": "LayoutModel",
          "state": {
            "_view_name": "LayoutView",
            "grid_template_rows": null,
            "right": null,
            "justify_content": null,
            "_view_module": "@jupyter-widgets/base",
            "overflow": null,
            "_model_module_version": "1.2.0",
            "_view_count": null,
            "flex_flow": null,
            "width": null,
            "min_width": null,
            "border": null,
            "align_items": null,
            "bottom": null,
            "_model_module": "@jupyter-widgets/base",
            "top": null,
            "grid_column": null,
            "overflow_y": null,
            "overflow_x": null,
            "grid_auto_flow": null,
            "grid_area": null,
            "grid_template_columns": null,
            "flex": null,
            "_model_name": "LayoutModel",
            "justify_items": null,
            "grid_row": null,
            "max_height": null,
            "align_content": null,
            "visibility": null,
            "align_self": null,
            "height": null,
            "min_height": null,
            "padding": null,
            "grid_auto_rows": null,
            "grid_gap": null,
            "max_width": null,
            "order": null,
            "_view_module_version": "1.2.0",
            "grid_template_areas": null,
            "object_position": null,
            "object_fit": null,
            "grid_auto_columns": null,
            "margin": null,
            "display": null,
            "left": null
          }
        },
        "bbd9915bf0794781b5d0b1cb68f358a2": {
          "model_module": "@jupyter-widgets/controls",
          "model_name": "HBoxModel",
          "state": {
            "_view_name": "HBoxView",
            "_dom_classes": [],
            "_model_name": "HBoxModel",
            "_view_module": "@jupyter-widgets/controls",
            "_model_module_version": "1.5.0",
            "_view_count": null,
            "_view_module_version": "1.5.0",
            "box_style": "",
            "layout": "IPY_MODEL_0b25819e207e4b688741c625cb67f20c",
            "_model_module": "@jupyter-widgets/controls",
            "children": [
              "IPY_MODEL_24564c23824047e980ef5bad17bc05e7",
              "IPY_MODEL_aa9150dec2d246c0af6982923332df61"
            ]
          }
        },
        "0b25819e207e4b688741c625cb67f20c": {
          "model_module": "@jupyter-widgets/base",
          "model_name": "LayoutModel",
          "state": {
            "_view_name": "LayoutView",
            "grid_template_rows": null,
            "right": null,
            "justify_content": null,
            "_view_module": "@jupyter-widgets/base",
            "overflow": null,
            "_model_module_version": "1.2.0",
            "_view_count": null,
            "flex_flow": null,
            "width": null,
            "min_width": null,
            "border": null,
            "align_items": null,
            "bottom": null,
            "_model_module": "@jupyter-widgets/base",
            "top": null,
            "grid_column": null,
            "overflow_y": null,
            "overflow_x": null,
            "grid_auto_flow": null,
            "grid_area": null,
            "grid_template_columns": null,
            "flex": null,
            "_model_name": "LayoutModel",
            "justify_items": null,
            "grid_row": null,
            "max_height": null,
            "align_content": null,
            "visibility": null,
            "align_self": null,
            "height": null,
            "min_height": null,
            "padding": null,
            "grid_auto_rows": null,
            "grid_gap": null,
            "max_width": null,
            "order": null,
            "_view_module_version": "1.2.0",
            "grid_template_areas": null,
            "object_position": null,
            "object_fit": null,
            "grid_auto_columns": null,
            "margin": null,
            "display": null,
            "left": null
          }
        },
        "24564c23824047e980ef5bad17bc05e7": {
          "model_module": "@jupyter-widgets/controls",
          "model_name": "FloatProgressModel",
          "state": {
            "_view_name": "ProgressView",
            "style": "IPY_MODEL_dcf50b0776404115abd5ea71f37cf35f",
            "_dom_classes": [],
            "description": "Export report to file: 100%",
            "_model_name": "FloatProgressModel",
            "bar_style": "success",
            "max": 1,
            "_view_module": "@jupyter-widgets/controls",
            "_model_module_version": "1.5.0",
            "value": 1,
            "_view_count": null,
            "_view_module_version": "1.5.0",
            "orientation": "horizontal",
            "min": 0,
            "description_tooltip": null,
            "_model_module": "@jupyter-widgets/controls",
            "layout": "IPY_MODEL_83dc6d58927844e3b326d15ac502db7e"
          }
        },
        "aa9150dec2d246c0af6982923332df61": {
          "model_module": "@jupyter-widgets/controls",
          "model_name": "HTMLModel",
          "state": {
            "_view_name": "HTMLView",
            "style": "IPY_MODEL_613c042e39f34627aaaae4c91e8bec26",
            "_dom_classes": [],
            "description": "",
            "_model_name": "HTMLModel",
            "placeholder": "​",
            "_view_module": "@jupyter-widgets/controls",
            "_model_module_version": "1.5.0",
            "value": " 1/1 [05:39&lt;00:00, 339.58s/it]",
            "_view_count": null,
            "_view_module_version": "1.5.0",
            "description_tooltip": null,
            "_model_module": "@jupyter-widgets/controls",
            "layout": "IPY_MODEL_64633d608b9e4c3098c616d5fe22a7d2"
          }
        },
        "dcf50b0776404115abd5ea71f37cf35f": {
          "model_module": "@jupyter-widgets/controls",
          "model_name": "ProgressStyleModel",
          "state": {
            "_view_name": "StyleView",
            "_model_name": "ProgressStyleModel",
            "description_width": "initial",
            "_view_module": "@jupyter-widgets/base",
            "_model_module_version": "1.5.0",
            "_view_count": null,
            "_view_module_version": "1.2.0",
            "bar_color": null,
            "_model_module": "@jupyter-widgets/controls"
          }
        },
        "83dc6d58927844e3b326d15ac502db7e": {
          "model_module": "@jupyter-widgets/base",
          "model_name": "LayoutModel",
          "state": {
            "_view_name": "LayoutView",
            "grid_template_rows": null,
            "right": null,
            "justify_content": null,
            "_view_module": "@jupyter-widgets/base",
            "overflow": null,
            "_model_module_version": "1.2.0",
            "_view_count": null,
            "flex_flow": null,
            "width": null,
            "min_width": null,
            "border": null,
            "align_items": null,
            "bottom": null,
            "_model_module": "@jupyter-widgets/base",
            "top": null,
            "grid_column": null,
            "overflow_y": null,
            "overflow_x": null,
            "grid_auto_flow": null,
            "grid_area": null,
            "grid_template_columns": null,
            "flex": null,
            "_model_name": "LayoutModel",
            "justify_items": null,
            "grid_row": null,
            "max_height": null,
            "align_content": null,
            "visibility": null,
            "align_self": null,
            "height": null,
            "min_height": null,
            "padding": null,
            "grid_auto_rows": null,
            "grid_gap": null,
            "max_width": null,
            "order": null,
            "_view_module_version": "1.2.0",
            "grid_template_areas": null,
            "object_position": null,
            "object_fit": null,
            "grid_auto_columns": null,
            "margin": null,
            "display": null,
            "left": null
          }
        },
        "613c042e39f34627aaaae4c91e8bec26": {
          "model_module": "@jupyter-widgets/controls",
          "model_name": "DescriptionStyleModel",
          "state": {
            "_view_name": "StyleView",
            "_model_name": "DescriptionStyleModel",
            "description_width": "",
            "_view_module": "@jupyter-widgets/base",
            "_model_module_version": "1.5.0",
            "_view_count": null,
            "_view_module_version": "1.2.0",
            "_model_module": "@jupyter-widgets/controls"
          }
        },
        "64633d608b9e4c3098c616d5fe22a7d2": {
          "model_module": "@jupyter-widgets/base",
          "model_name": "LayoutModel",
          "state": {
            "_view_name": "LayoutView",
            "grid_template_rows": null,
            "right": null,
            "justify_content": null,
            "_view_module": "@jupyter-widgets/base",
            "overflow": null,
            "_model_module_version": "1.2.0",
            "_view_count": null,
            "flex_flow": null,
            "width": null,
            "min_width": null,
            "border": null,
            "align_items": null,
            "bottom": null,
            "_model_module": "@jupyter-widgets/base",
            "top": null,
            "grid_column": null,
            "overflow_y": null,
            "overflow_x": null,
            "grid_auto_flow": null,
            "grid_area": null,
            "grid_template_columns": null,
            "flex": null,
            "_model_name": "LayoutModel",
            "justify_items": null,
            "grid_row": null,
            "max_height": null,
            "align_content": null,
            "visibility": null,
            "align_self": null,
            "height": null,
            "min_height": null,
            "padding": null,
            "grid_auto_rows": null,
            "grid_gap": null,
            "max_width": null,
            "order": null,
            "_view_module_version": "1.2.0",
            "grid_template_areas": null,
            "object_position": null,
            "object_fit": null,
            "grid_auto_columns": null,
            "margin": null,
            "display": null,
            "left": null
          }
        }
      }
    }
  },
  "cells": [
    {
      "cell_type": "markdown",
      "metadata": {
        "id": "view-in-github",
        "colab_type": "text"
      },
      "source": [
        "<a href=\"https://colab.research.google.com/github/sugatoray/Manning-Phishing-Websites-Detection/blob/master/src/notebooks/MPWD.ipynb\" target=\"_parent\"><img src=\"https://colab.research.google.com/assets/colab-badge.svg\" alt=\"Open In Colab\"/></a>"
      ]
    },
    {
      "cell_type": "markdown",
      "metadata": {
        "id": "FusUBlVT6Ku6",
        "colab_type": "text"
      },
      "source": [
        "# Project: _Use Machine Learning to Detect Phishing Websites_\n",
        "\n",
        "+ [Project home page @manning][#project-home-manning]\n",
        "+ [Project Repo@GitHub - core][#project-github-core]\n",
        "+ [Project Repo@GitHub - sugatoray][#project-github-sugatoray]\n",
        "\n",
        "\n",
        "[#project-home-manning]: https://liveproject.manning.com/module/101_1_1/use-machine-learning-to-detect-phishing-websites/introduction/about-this-liveproject?\n",
        "\n",
        "[#project-github-core]: https://github.com/sayakpaul/Manning-Phishing-Websites-Detection\n",
        "[#project-github-sugatoray]: https://github.com/sugatoray/Manning-Phishing-Websites-Detection\n",
        "\n",
        "---\n",
        "\n",
        "## Instructions\n",
        "\n",
        "In this liveProject (\n",
        "**Manning Phishing Websites Detection**: _MPWD_), you will be filling in the role of a data scientist employed by an organization's cybersecurity manager. Lately, the employees of the organization are receiving a lot of emails containing links to phishing websites. Your task will be to develop a machine learning model for predicting whether or not an email that contains a link to a website is a phishing website or not.\n",
        "\n",
        "Phishing attacks are considered to be one of the most common types of online security threats, and are capable of breaking into an organization's online security so as to extract confidential information like user passwords, financial information, and so on. The [Internet Crime Report 2018](https://www.ic3.gov/media/2018.aspx) presents the effects of phishing websites.\n",
        "\n",
        "Your first assignment as a newly on-boarded data scientist is to build upon the following steps to develop a phishing websites classifier:\n",
        "\n",
        "-   Load and understand a tabular dataset. As a data scientist, you should be comfortable working with tabular data.\n",
        "\n",
        "-   Query the dataset for deriving interesting reports.\n",
        "\n",
        "-   Clean the dataset accordingly so that it is well-suited for a machine learning model.\n",
        "\n",
        "-   Build and train machine learning models, like Logistic Regression and Neural Networks.\n",
        "\n",
        "-   Perform hyperparameter tuning techniques, like random search.\n",
        "\n",
        "-   Provide a summary of the performance of the machine learning models."
      ]
    },
    {
      "cell_type": "markdown",
      "metadata": {
        "id": "JiPEG-c88ujl",
        "colab_type": "text"
      },
      "source": [
        "Experiment Tracking: \n",
        "\n",
        "We will use [`wandb`][#wandb-github] for experiment tracking.\n",
        "\n",
        "[#wandb-github]: https://github.com/wandb/client#quickstart\n",
        "\n",
        "**Installation**:  \n",
        "\n",
        "```python\n",
        "pip install wandb\n",
        "```\n",
        "\n",
        "**Example Use**:  \n",
        "\n"
      ]
    },
    {
      "cell_type": "markdown",
      "metadata": {
        "id": "W_X6PpyQnQJj",
        "colab_type": "text"
      },
      "source": [
        "## Install Packages\n",
        "\n",
        "- `pandas_profiling`\n",
        "- `wandb`"
      ]
    },
    {
      "cell_type": "code",
      "metadata": {
        "id": "mm6EEgOnFBzy",
        "colab_type": "code",
        "colab": {
          "base_uri": "https://localhost:8080/",
          "height": 34
        },
        "outputId": "a15b58f6-69aa-4e2e-e298-26ab01a9286a"
      },
      "source": [
        "!pip install -U -q pandas_profiling[notebook]"
      ],
      "execution_count": 101,
      "outputs": [
        {
          "output_type": "stream",
          "text": [
            "\u001b[?25l\r\u001b[K     |███                             | 10kB 24.3MB/s eta 0:00:01\r\u001b[K     |██████▏                         | 20kB 1.8MB/s eta 0:00:01\r\u001b[K     |█████████▏                      | 30kB 2.3MB/s eta 0:00:01\r\u001b[K     |████████████▎                   | 40kB 2.6MB/s eta 0:00:01\r\u001b[K     |███████████████▍                | 51kB 2.0MB/s eta 0:00:01\r\u001b[K     |██████████████████▍             | 61kB 2.3MB/s eta 0:00:01\r\u001b[K     |█████████████████████▌          | 71kB 2.5MB/s eta 0:00:01\r\u001b[K     |████████████████████████▋       | 81kB 2.8MB/s eta 0:00:01\r\u001b[K     |███████████████████████████▋    | 92kB 2.9MB/s eta 0:00:01\r\u001b[K     |██████████████████████████████▊ | 102kB 2.8MB/s eta 0:00:01\r\u001b[K     |████████████████████████████████| 112kB 2.8MB/s \n",
            "\u001b[?25h"
          ],
          "name": "stdout"
        }
      ]
    },
    {
      "cell_type": "code",
      "metadata": {
        "id": "Q83eRM0x_ikF",
        "colab_type": "code",
        "colab": {}
      },
      "source": [
        "!pip install -U -q wandb"
      ],
      "execution_count": 0,
      "outputs": []
    },
    {
      "cell_type": "code",
      "metadata": {
        "id": "em-a5G9M73D4",
        "colab_type": "code",
        "colab": {
          "base_uri": "https://localhost:8080/",
          "height": 34
        },
        "outputId": "527485ff-cc8c-436d-8f48-96a2e0f7dbd3"
      },
      "source": [
        "import numpy as np\n",
        "import pandas as pd\n",
        "import matplotlib.pyplot as plt\n",
        "import pandas_profiling as ppf\n",
        "\n",
        "import wandb\n",
        "import time\n",
        "\n",
        "import os, json\n",
        "from IPython.display import display, clear_output\n",
        "\n",
        "from tqdm import tqdm_notebook as tqdm\n",
        "import warnings\n",
        "warnings.resetwarnings()\n",
        "print(\"WARNINGS ARE BEING IGNORED!!!\")\n",
        "warnings.filterwarnings(\"ignore\")\n",
        "\n",
        "%matplotlib inline\n",
        "\n",
        "# set numpy random generator seed \n",
        "# for reproducibility\n",
        "seed = 42\n",
        "np.random.seed(seed)"
      ],
      "execution_count": 100,
      "outputs": [
        {
          "output_type": "stream",
          "text": [
            "WARNINGS ARE BEING IGNORED!!!\n"
          ],
          "name": "stdout"
        }
      ]
    },
    {
      "cell_type": "code",
      "metadata": {
        "id": "AbQ6YYbo6Asv",
        "colab_type": "code",
        "colab": {}
      },
      "source": [
        "data_url = r\"https://raw.githubusercontent.com/sugatoray/Manning-Phishing-Websites-Detection/master/Phishing.csv\""
      ],
      "execution_count": 0,
      "outputs": []
    },
    {
      "cell_type": "markdown",
      "metadata": {
        "id": "U4D5d-1ZVNVY",
        "colab_type": "text"
      },
      "source": [
        "## Manage API Key\n",
        "\n",
        "We will use the custom defined `APIKeyHandler class` and add the API key to the environment variables.\n",
        "\n",
        "```python\n",
        "api_key_name = 'WANDB_API_KEY'\n",
        "```"
      ]
    },
    {
      "cell_type": "code",
      "metadata": {
        "id": "0KuagtBgFgOg",
        "colab_type": "code",
        "colab": {
          "base_uri": "https://localhost:8080/",
          "height": 0
        },
        "outputId": "021aeaf8-6733-4818-f7e9-34a3ca45d47a"
      },
      "source": [
        "class APIKeyHandler(object):\n",
        "    \"\"\"Handles API Keys. Adds and/or removes them to/from the environment \n",
        "    variables (os.environ).\n",
        "    \n",
        "    Example\n",
        "    -------\n",
        "\n",
        "    # Initialize APIKeyHandler\n",
        "    akh = APIKeyHandler()\n",
        "    print(akh) # print the object\n",
        "    api_key_name = 'WANDB_API_KEY'\n",
        "    # ADD api-key to os.environ\n",
        "    akh.add_to_enviroment(api_key_name=api_key_name)\n",
        "    # REMOVE api-key from os.environ\n",
        "    #akh.remove_from_environemnt(api_key_name=api_key_name)\n",
        "    \"\"\"\n",
        "    API_STORE = r\"/content/drive/My Drive/Data Repository/API_REPO/api_chest.json\"\n",
        "\n",
        "    def __init__(self):\n",
        "        self.api_key_names = None\n",
        "        self._apis = None\n",
        "        self.update_api_data()\n",
        "\n",
        "    def update_api_data(self):\n",
        "        self._read_api_store()\n",
        "        self.api_key_names = sorted(list(self._apis.keys()))\n",
        "\n",
        "    def __repr__(self):\n",
        "        total = len(self.api_key_names)\n",
        "        msg = ', '.join(self.api_key_names)\n",
        "        cls = self.__class__.__name__\n",
        "        return '{}( total {} keys; [ {} ] )'.format(cls, total, msg)\n",
        "\n",
        "    def _read_api_store(self):\n",
        "        with open(API_STORE, 'r') as f:\n",
        "            self._apis = json.loads(f.read())\n",
        "\n",
        "    def get_api_key(self, api_key_name=None):\n",
        "        if api_key_name is not None:        \n",
        "            self.update_api_data()\n",
        "            #apis = json.loads(self._apis)\n",
        "            return self._apis.get(api_key_name, None)\n",
        "\n",
        "    def add_to_enviroment(self, api_key_name=None):\n",
        "        if api_key_name is not None:\n",
        "            print('Adding Environment Variable: {}'.format(api_key_name))\n",
        "            api_key_value = self.get_api_key(api_key_name)\n",
        "            if api_key_value is not None:\n",
        "                os.environ[api_key_name] = api_key_value\n",
        "                print(' ... SUCCESS')\n",
        "            else:\n",
        "                print(' ... ABORTED. Key value is NULL.')\n",
        "    \n",
        "    def remove_from_environemnt(self, api_key_name=None):\n",
        "        if api_key_name is not None:            \n",
        "            api_key_value = self.get_api_key(api_key_name)            \n",
        "            if (api_key_name in os.environ) and (api_key_value is not None):\n",
        "                print('Removing Environment Variable: {}'.format(api_key_name))\n",
        "                v = os.environ.pop(api_key_name, None)\n",
        "                if v is not None:\n",
        "                    print(' ... SUCCESS')\n",
        "                else:\n",
        "                    print(' ... ABORTED. Key value in os.environ is NULL.')\n",
        "            \n",
        "print(APIKeyHandler.__doc__)\n",
        "print('\\n'+''.join(['-']*80)+'\\n')\n",
        "# Initialize APIKeyHandler\n",
        "akh = APIKeyHandler()\n",
        "print(akh) # print the object\n",
        "api_key_name = 'WANDB_API_KEY'\n",
        "# ADD api-key to os.environ\n",
        "akh.add_to_enviroment(api_key_name=api_key_name)\n",
        "# REMOVE api-key from os.environ\n",
        "#akh.remove_from_environemnt(api_key_name=api_key_name)"
      ],
      "execution_count": 60,
      "outputs": [
        {
          "output_type": "stream",
          "text": [
            "Handles API Keys. Adds and/or removes them to/from the environment \n",
            "    variables (os.environ).\n",
            "    \n",
            "    Example\n",
            "    -------\n",
            "\n",
            "    # Initialize APIKeyHandler\n",
            "    akh = APIKeyHandler()\n",
            "    print(akh) # print the object\n",
            "    api_key_name = 'WANDB_API_KEY'\n",
            "    # ADD api-key to os.environ\n",
            "    akh.add_to_enviroment(api_key_name=api_key_name)\n",
            "    # REMOVE api-key from os.environ\n",
            "    #akh.remove_from_environemnt(api_key_name=api_key_name)\n",
            "    \n",
            "\n",
            "--------------------------------------------------------------------------------\n",
            "\n",
            "APIKeyHandler( total 4 keys; [ IQAIR_API_KEY, JOVIAN_API_KEY, OPENSKY_API_KEY, WANDB_API_KEY ] )\n",
            "Adding Environment Variable: WANDB_API_KEY\n",
            " ... SUCCESS\n"
          ],
          "name": "stdout"
        }
      ]
    },
    {
      "cell_type": "markdown",
      "metadata": {
        "id": "H8SJMgExWCWL",
        "colab_type": "text"
      },
      "source": [
        "## Add Login Credentials using `wandb login` Command\n",
        "\n",
        "Inside a Jupyter Notebook, run the following from a code cell. And when prompted paste your API key from https://app.wandb.ai/authorize.\n",
        "\n",
        "```\n",
        "!wandb login\n",
        "```\n",
        "\n",
        "**CAUTION**: This approach leaves a visible trace with what API KEY you just used. DONOT use this if you want to share your notebook with someone.\n",
        "\n",
        "If you want to clear the output after the login is successful, you could use the following method.\n",
        "\n",
        "```\n",
        "from IPython.display import clear_output\n",
        "!wandb login\n",
        "clear_output()\n",
        "```\n",
        "\n",
        "However, I have wrapped this in a python convenience function `wandb_login()`.\n",
        "\n",
        "```python\n",
        "def wandb_login(sleeptime=0.5):\n",
        "    !wandb login\n",
        "    time.sleep(sleeptime)\n",
        "    clear_output()\n",
        "    # Location of your wandb credential saved \n",
        "    #   using command wandb login: ~/.netrc \n",
        "    # Uncomment the following line to see the \n",
        "    #   contents of the file.\n",
        "    #!cat ~/.netrc \n",
        "```\n",
        "\n",
        "Just use: \n",
        "\n",
        "```python\n",
        "wandb_login()\n",
        "```"
      ]
    },
    {
      "cell_type": "code",
      "metadata": {
        "id": "40z4h9vgAidm",
        "colab_type": "code",
        "colab": {}
      },
      "source": [
        "def wandb_login(sleeptime=0.5):\n",
        "    !wandb login\n",
        "    time.sleep(sleeptime)\n",
        "    clear_output()\n",
        "    # Location of your wandb credential saved \n",
        "    #   using command wandb login: ~/.netrc \n",
        "    # Uncomment the following line to see the \n",
        "    #   contents of the file.\n",
        "    #!cat ~/.netrc \n",
        "\n",
        "wandb_login()"
      ],
      "execution_count": 0,
      "outputs": []
    },
    {
      "cell_type": "markdown",
      "metadata": {
        "id": "Ry_f7r2TbJlR",
        "colab_type": "text"
      },
      "source": [
        "## Clone GitHub Repo\n",
        "\n",
        "To clone the github repo use the following command.\n",
        "\n",
        "```\n",
        "!git clone https://github.com/sugatoray/Manning-Phishing-Websites-Detection.git\n",
        "```"
      ]
    },
    {
      "cell_type": "code",
      "metadata": {
        "id": "591S59KaAYMo",
        "colab_type": "code",
        "colab": {
          "base_uri": "https://localhost:8080/",
          "height": 119
        },
        "outputId": "ecb4a858-8d41-4c89-f8fd-1a18d84e83d5"
      },
      "source": [
        "!git clone https://github.com/sugatoray/Manning-Phishing-Websites-Detection.git"
      ],
      "execution_count": 66,
      "outputs": [
        {
          "output_type": "stream",
          "text": [
            "Cloning into 'Manning-Phishing-Websites-Detection'...\n",
            "remote: Enumerating objects: 15, done.\u001b[K\n",
            "remote: Counting objects: 100% (15/15), done.\u001b[K\n",
            "remote: Compressing objects: 100% (14/14), done.\u001b[K\n",
            "remote: Total 15 (delta 3), reused 2 (delta 0), pack-reused 0\u001b[K\n",
            "Unpacking objects: 100% (15/15), done.\n"
          ],
          "name": "stdout"
        }
      ]
    },
    {
      "cell_type": "markdown",
      "metadata": {
        "id": "kjNP1flbb_XO",
        "colab_type": "text"
      },
      "source": [
        "## Define Project Home Directory"
      ]
    },
    {
      "cell_type": "code",
      "metadata": {
        "id": "gelLMtCQA2g3",
        "colab_type": "code",
        "colab": {}
      },
      "source": [
        "home = r\"/content/Manning-Phishing-Websites-Detection\"\n",
        "data_path = os.path.join(home, 'Phishing.csv') # data path"
      ],
      "execution_count": 0,
      "outputs": []
    },
    {
      "cell_type": "markdown",
      "metadata": {
        "id": "y9yIZTfQd8-0",
        "colab_type": "text"
      },
      "source": [
        "## Read Data into a Pandas DataFrame"
      ]
    },
    {
      "cell_type": "code",
      "metadata": {
        "id": "jp7Djnw_cHYi",
        "colab_type": "code",
        "colab": {
          "base_uri": "https://localhost:8080/",
          "height": 224
        },
        "outputId": "6e84b203-a05e-4078-945d-112758684841"
      },
      "source": [
        "df = pd.read_csv(data_path)\n",
        "df.head()"
      ],
      "execution_count": 85,
      "outputs": [
        {
          "output_type": "execute_result",
          "data": {
            "text/html": [
              "<div>\n",
              "<style scoped>\n",
              "    .dataframe tbody tr th:only-of-type {\n",
              "        vertical-align: middle;\n",
              "    }\n",
              "\n",
              "    .dataframe tbody tr th {\n",
              "        vertical-align: top;\n",
              "    }\n",
              "\n",
              "    .dataframe thead th {\n",
              "        text-align: right;\n",
              "    }\n",
              "</style>\n",
              "<table border=\"1\" class=\"dataframe\">\n",
              "  <thead>\n",
              "    <tr style=\"text-align: right;\">\n",
              "      <th></th>\n",
              "      <th>having_IP_Address</th>\n",
              "      <th>URL_Length</th>\n",
              "      <th>Shortining_Service</th>\n",
              "      <th>having_At_Symbol</th>\n",
              "      <th>double_slash_redirecting</th>\n",
              "      <th>Prefix_Suffix</th>\n",
              "      <th>having_Sub_Domain</th>\n",
              "      <th>SSLfinal_State</th>\n",
              "      <th>Domain_registeration_length</th>\n",
              "      <th>Favicon</th>\n",
              "      <th>port</th>\n",
              "      <th>HTTPS_token</th>\n",
              "      <th>Request_URL</th>\n",
              "      <th>URL_of_Anchor</th>\n",
              "      <th>Links_in_tags</th>\n",
              "      <th>SFH</th>\n",
              "      <th>Submitting_to_email</th>\n",
              "      <th>Abnormal_URL</th>\n",
              "      <th>Redirect</th>\n",
              "      <th>on_mouseover</th>\n",
              "      <th>RightClick</th>\n",
              "      <th>popUpWidnow</th>\n",
              "      <th>Iframe</th>\n",
              "      <th>age_of_domain</th>\n",
              "      <th>DNSRecord</th>\n",
              "      <th>web_traffic</th>\n",
              "      <th>Page_Rank</th>\n",
              "      <th>Google_Index</th>\n",
              "      <th>Links_pointing_to_page</th>\n",
              "      <th>Statistical_report</th>\n",
              "      <th>Result</th>\n",
              "    </tr>\n",
              "  </thead>\n",
              "  <tbody>\n",
              "    <tr>\n",
              "      <th>0</th>\n",
              "      <td>-1</td>\n",
              "      <td>1</td>\n",
              "      <td>1</td>\n",
              "      <td>1</td>\n",
              "      <td>-1</td>\n",
              "      <td>-1</td>\n",
              "      <td>-1</td>\n",
              "      <td>-1</td>\n",
              "      <td>-1</td>\n",
              "      <td>1</td>\n",
              "      <td>1</td>\n",
              "      <td>-1</td>\n",
              "      <td>1</td>\n",
              "      <td>-1</td>\n",
              "      <td>1</td>\n",
              "      <td>-1</td>\n",
              "      <td>-1</td>\n",
              "      <td>-1</td>\n",
              "      <td>0</td>\n",
              "      <td>1</td>\n",
              "      <td>1</td>\n",
              "      <td>1</td>\n",
              "      <td>1</td>\n",
              "      <td>-1</td>\n",
              "      <td>-1</td>\n",
              "      <td>-1</td>\n",
              "      <td>-1</td>\n",
              "      <td>1</td>\n",
              "      <td>1</td>\n",
              "      <td>-1</td>\n",
              "      <td>-1</td>\n",
              "    </tr>\n",
              "    <tr>\n",
              "      <th>1</th>\n",
              "      <td>1</td>\n",
              "      <td>1</td>\n",
              "      <td>1</td>\n",
              "      <td>1</td>\n",
              "      <td>1</td>\n",
              "      <td>-1</td>\n",
              "      <td>0</td>\n",
              "      <td>1</td>\n",
              "      <td>-1</td>\n",
              "      <td>1</td>\n",
              "      <td>1</td>\n",
              "      <td>-1</td>\n",
              "      <td>1</td>\n",
              "      <td>0</td>\n",
              "      <td>-1</td>\n",
              "      <td>-1</td>\n",
              "      <td>1</td>\n",
              "      <td>1</td>\n",
              "      <td>0</td>\n",
              "      <td>1</td>\n",
              "      <td>1</td>\n",
              "      <td>1</td>\n",
              "      <td>1</td>\n",
              "      <td>-1</td>\n",
              "      <td>-1</td>\n",
              "      <td>0</td>\n",
              "      <td>-1</td>\n",
              "      <td>1</td>\n",
              "      <td>1</td>\n",
              "      <td>1</td>\n",
              "      <td>-1</td>\n",
              "    </tr>\n",
              "    <tr>\n",
              "      <th>2</th>\n",
              "      <td>1</td>\n",
              "      <td>0</td>\n",
              "      <td>1</td>\n",
              "      <td>1</td>\n",
              "      <td>1</td>\n",
              "      <td>-1</td>\n",
              "      <td>-1</td>\n",
              "      <td>-1</td>\n",
              "      <td>-1</td>\n",
              "      <td>1</td>\n",
              "      <td>1</td>\n",
              "      <td>-1</td>\n",
              "      <td>1</td>\n",
              "      <td>0</td>\n",
              "      <td>-1</td>\n",
              "      <td>-1</td>\n",
              "      <td>-1</td>\n",
              "      <td>-1</td>\n",
              "      <td>0</td>\n",
              "      <td>1</td>\n",
              "      <td>1</td>\n",
              "      <td>1</td>\n",
              "      <td>1</td>\n",
              "      <td>1</td>\n",
              "      <td>-1</td>\n",
              "      <td>1</td>\n",
              "      <td>-1</td>\n",
              "      <td>1</td>\n",
              "      <td>0</td>\n",
              "      <td>-1</td>\n",
              "      <td>-1</td>\n",
              "    </tr>\n",
              "    <tr>\n",
              "      <th>3</th>\n",
              "      <td>1</td>\n",
              "      <td>0</td>\n",
              "      <td>1</td>\n",
              "      <td>1</td>\n",
              "      <td>1</td>\n",
              "      <td>-1</td>\n",
              "      <td>-1</td>\n",
              "      <td>-1</td>\n",
              "      <td>1</td>\n",
              "      <td>1</td>\n",
              "      <td>1</td>\n",
              "      <td>-1</td>\n",
              "      <td>-1</td>\n",
              "      <td>0</td>\n",
              "      <td>0</td>\n",
              "      <td>-1</td>\n",
              "      <td>1</td>\n",
              "      <td>1</td>\n",
              "      <td>0</td>\n",
              "      <td>1</td>\n",
              "      <td>1</td>\n",
              "      <td>1</td>\n",
              "      <td>1</td>\n",
              "      <td>-1</td>\n",
              "      <td>-1</td>\n",
              "      <td>1</td>\n",
              "      <td>-1</td>\n",
              "      <td>1</td>\n",
              "      <td>-1</td>\n",
              "      <td>1</td>\n",
              "      <td>-1</td>\n",
              "    </tr>\n",
              "    <tr>\n",
              "      <th>4</th>\n",
              "      <td>1</td>\n",
              "      <td>0</td>\n",
              "      <td>-1</td>\n",
              "      <td>1</td>\n",
              "      <td>1</td>\n",
              "      <td>-1</td>\n",
              "      <td>1</td>\n",
              "      <td>1</td>\n",
              "      <td>-1</td>\n",
              "      <td>1</td>\n",
              "      <td>1</td>\n",
              "      <td>1</td>\n",
              "      <td>1</td>\n",
              "      <td>0</td>\n",
              "      <td>0</td>\n",
              "      <td>-1</td>\n",
              "      <td>1</td>\n",
              "      <td>1</td>\n",
              "      <td>0</td>\n",
              "      <td>-1</td>\n",
              "      <td>1</td>\n",
              "      <td>-1</td>\n",
              "      <td>1</td>\n",
              "      <td>-1</td>\n",
              "      <td>-1</td>\n",
              "      <td>0</td>\n",
              "      <td>-1</td>\n",
              "      <td>1</td>\n",
              "      <td>1</td>\n",
              "      <td>1</td>\n",
              "      <td>1</td>\n",
              "    </tr>\n",
              "  </tbody>\n",
              "</table>\n",
              "</div>"
            ],
            "text/plain": [
              "   having_IP_Address  URL_Length  ...  Statistical_report  Result\n",
              "0                 -1           1  ...                  -1      -1\n",
              "1                  1           1  ...                   1      -1\n",
              "2                  1           0  ...                  -1      -1\n",
              "3                  1           0  ...                   1      -1\n",
              "4                  1           0  ...                   1       1\n",
              "\n",
              "[5 rows x 31 columns]"
            ]
          },
          "metadata": {
            "tags": []
          },
          "execution_count": 85
        }
      ]
    },
    {
      "cell_type": "markdown",
      "metadata": {
        "id": "6ZpRNvwjfHz6",
        "colab_type": "text"
      },
      "source": [
        "## Inspect the DataFrame with `pandas_profiling` Library\n",
        "\n",
        "```python\n",
        "# Install if necessary\n",
        "#!pip install -U -q pandas_profiling\n",
        "import pandas_profiling as ppf\n",
        "# Create Profile Report\n",
        "ppf.ProfileReport(df)\n",
        "```"
      ]
    },
    {
      "cell_type": "code",
      "metadata": {
        "id": "nJ1vaKWucjWC",
        "colab_type": "code",
        "colab": {
          "base_uri": "https://localhost:8080/",
          "height": 213,
          "referenced_widgets": [
            "10fb5638ddcc4bad85d4846223101af1",
            "275384e66e2c4784be76b1382d869c2e",
            "d7b51055f40e485081c8e07222b14736",
            "5444b6f46e8c469695ee226010354821",
            "41768869a02540249b0d4e5026748555",
            "da59568d871443249ab78b4f5db86dde",
            "ba31ae8f19354bddac88c623e2b2cb55",
            "aff54fe0e367447eaf59849ea785718b",
            "67c69a1cb3fe4d2b8a5b8b5e24692116",
            "bf072861e9ec45ee98b545556c9abc3d",
            "ba6422dc0a484c12bdf7c47ddd5317ea",
            "26efcf15310d4fe3a61256154f4a9b13",
            "3ceb1ad58c1b42209f00df9d8a6ee33f",
            "f418671912c14751ab33276c4aa4a8f7",
            "cb088c84e1a24ce5818eb0fe9638093d",
            "28898000b4cb4889a83c4bb4e3396b3b",
            "77d1b57a05dd41d6aa7031bc51f4a8ae",
            "b5ea3d7bd3e645bfbab44eda97434d5f",
            "594f0a755f4b46fbad49f818dedae5b1",
            "0565364fc37f41ebafd9ac68b9154aa7",
            "46bb02c538da4eb4a7f93b9341e7da29",
            "f88422ed2f374acf88d9f47f3bbc4591",
            "f8dce0b8fb40418f8c83d27eab96f87a",
            "2073e87f5c204fe28ae66c3d1fc1bf99",
            "bbd9915bf0794781b5d0b1cb68f358a2",
            "0b25819e207e4b688741c625cb67f20c",
            "24564c23824047e980ef5bad17bc05e7",
            "aa9150dec2d246c0af6982923332df61",
            "dcf50b0776404115abd5ea71f37cf35f",
            "83dc6d58927844e3b326d15ac502db7e",
            "613c042e39f34627aaaae4c91e8bec26",
            "64633d608b9e4c3098c616d5fe22a7d2"
          ]
        },
        "outputId": "a1eb7a25-e1cd-4065-d2e5-f3a58721d12d"
      },
      "source": [
        "profile = ppf.ProfileReport(df)\n",
        "profile.to_file(output_file = 'profile_report.html')"
      ],
      "execution_count": 102,
      "outputs": [
        {
          "output_type": "display_data",
          "data": {
            "application/vnd.jupyter.widget-view+json": {
              "model_id": "10fb5638ddcc4bad85d4846223101af1",
              "version_minor": 0,
              "version_major": 2
            },
            "text/plain": [
              "HBox(children=(FloatProgress(value=0.0, description='Summarize dataset', max=43.0, style=ProgressStyle(descrip…"
            ]
          },
          "metadata": {
            "tags": []
          }
        },
        {
          "output_type": "stream",
          "text": [
            "\n"
          ],
          "name": "stdout"
        },
        {
          "output_type": "display_data",
          "data": {
            "application/vnd.jupyter.widget-view+json": {
              "model_id": "67c69a1cb3fe4d2b8a5b8b5e24692116",
              "version_minor": 0,
              "version_major": 2
            },
            "text/plain": [
              "HBox(children=(FloatProgress(value=0.0, description='Generate report structure', max=1.0, style=ProgressStyle(…"
            ]
          },
          "metadata": {
            "tags": []
          }
        },
        {
          "output_type": "stream",
          "text": [
            "\n"
          ],
          "name": "stdout"
        },
        {
          "output_type": "display_data",
          "data": {
            "application/vnd.jupyter.widget-view+json": {
              "model_id": "77d1b57a05dd41d6aa7031bc51f4a8ae",
              "version_minor": 0,
              "version_major": 2
            },
            "text/plain": [
              "HBox(children=(FloatProgress(value=0.0, description='Render HTML', max=1.0, style=ProgressStyle(description_wi…"
            ]
          },
          "metadata": {
            "tags": []
          }
        },
        {
          "output_type": "stream",
          "text": [
            "\n"
          ],
          "name": "stdout"
        },
        {
          "output_type": "display_data",
          "data": {
            "application/vnd.jupyter.widget-view+json": {
              "model_id": "bbd9915bf0794781b5d0b1cb68f358a2",
              "version_minor": 0,
              "version_major": 2
            },
            "text/plain": [
              "HBox(children=(FloatProgress(value=0.0, description='Export report to file', max=1.0, style=ProgressStyle(desc…"
            ]
          },
          "metadata": {
            "tags": []
          }
        },
        {
          "output_type": "stream",
          "text": [
            "\n"
          ],
          "name": "stdout"
        }
      ]
    },
    {
      "cell_type": "markdown",
      "metadata": {
        "id": "BbvkSnVItMz6",
        "colab_type": "text"
      },
      "source": [
        "## Set up Git"
      ]
    },
    {
      "cell_type": "markdown",
      "metadata": {
        "id": "92Wb1oHEztoO",
        "colab_type": "text"
      },
      "source": [
        "### Install Latest Git Version"
      ]
    },
    {
      "cell_type": "code",
      "metadata": {
        "id": "D7X0hd_iw9yK",
        "colab_type": "code",
        "colab": {
          "base_uri": "https://localhost:8080/",
          "height": 34
        },
        "outputId": "35ca9cba-3691-422e-9372-dad2f90aff13"
      },
      "source": [
        "!git --version "
      ],
      "execution_count": 127,
      "outputs": [
        {
          "output_type": "stream",
          "text": [
            "git version 2.17.1\n"
          ],
          "name": "stdout"
        }
      ]
    },
    {
      "cell_type": "code",
      "metadata": {
        "id": "2L4UI9bhvOcD",
        "colab_type": "code",
        "colab": {
          "base_uri": "https://localhost:8080/",
          "height": 102
        },
        "outputId": "526388c3-39d2-4cf8-9f51-3c8c8cba0452"
      },
      "source": [
        "!apt-get install git"
      ],
      "execution_count": 126,
      "outputs": [
        {
          "output_type": "stream",
          "text": [
            "Reading package lists... Done\n",
            "Building dependency tree       \n",
            "Reading state information... Done\n",
            "git is already the newest version (1:2.17.1-1ubuntu0.7).\n",
            "0 upgraded, 0 newly installed, 0 to remove and 29 not upgraded.\n"
          ],
          "name": "stdout"
        }
      ]
    },
    {
      "cell_type": "markdown",
      "metadata": {
        "id": "ilViydrM0H6q",
        "colab_type": "text"
      },
      "source": [
        "### Setup Global Config Variables"
      ]
    },
    {
      "cell_type": "code",
      "metadata": {
        "id": "JiXJuiJVdthd",
        "colab_type": "code",
        "colab": {
          "base_uri": "https://localhost:8080/",
          "height": 187
        },
        "outputId": "e5ad4c9c-6cdd-4135-92f3-8953c9fe9ca0"
      },
      "source": [
        "!git config --global user.name \"sugatoray\"\n",
        "!git config --global user.email \"ray.sugato@gmail.com\"\n",
        "!git config -l"
      ],
      "execution_count": 128,
      "outputs": [
        {
          "output_type": "stream",
          "text": [
            "user.name=sugatoray\n",
            "user.email=ray.sugato@gmail.com\n",
            "core.repositoryformatversion=0\n",
            "core.filemode=true\n",
            "core.bare=false\n",
            "core.logallrefupdates=true\n",
            "remote.origin.url=https://github.com/sugatoray/Manning-Phishing-Websites-Detection.git\n",
            "remote.origin.fetch=+refs/heads/*:refs/remotes/origin/*\n",
            "branch.master.remote=origin\n",
            "branch.master.merge=refs/heads/master\n"
          ],
          "name": "stdout"
        }
      ]
    },
    {
      "cell_type": "markdown",
      "metadata": {
        "id": "vy8z46WFtQr1",
        "colab_type": "text"
      },
      "source": [
        "### Check Git Commands"
      ]
    },
    {
      "cell_type": "code",
      "metadata": {
        "id": "KmcR00sOrIcG",
        "colab_type": "code",
        "colab": {
          "base_uri": "https://localhost:8080/",
          "height": 0
        },
        "outputId": "80116a17-d643-4e8f-96f7-a8d7e00cea2d"
      },
      "source": [
        "!git"
      ],
      "execution_count": 107,
      "outputs": [
        {
          "output_type": "stream",
          "text": [
            "usage: git [--version] [--help] [-C <path>] [-c <name>=<value>]\n",
            "           [--exec-path[=<path>]] [--html-path] [--man-path] [--info-path]\n",
            "           [-p | --paginate | --no-pager] [--no-replace-objects] [--bare]\n",
            "           [--git-dir=<path>] [--work-tree=<path>] [--namespace=<name>]\n",
            "           <command> [<args>]\n",
            "\n",
            "These are common Git commands used in various situations:\n",
            "\n",
            "start a working area (see also: git help tutorial)\n",
            "   clone      Clone a repository into a new directory\n",
            "   init       Create an empty Git repository or reinitialize an existing one\n",
            "\n",
            "work on the current change (see also: git help everyday)\n",
            "   add        Add file contents to the index\n",
            "   mv         Move or rename a file, a directory, or a symlink\n",
            "   reset      Reset current HEAD to the specified state\n",
            "   rm         Remove files from the working tree and from the index\n",
            "\n",
            "examine the history and state (see also: git help revisions)\n",
            "   bisect     Use binary search to find the commit that introduced a bug\n",
            "   grep       Print lines matching a pattern\n",
            "   log        Show commit logs\n",
            "   show       Show various types of objects\n",
            "   status     Show the working tree status\n",
            "\n",
            "grow, mark and tweak your common history\n",
            "   branch     List, create, or delete branches\n",
            "   checkout   Switch branches or restore working tree files\n",
            "   commit     Record changes to the repository\n",
            "   diff       Show changes between commits, commit and working tree, etc\n",
            "   merge      Join two or more development histories together\n",
            "   rebase     Reapply commits on top of another base tip\n",
            "   tag        Create, list, delete or verify a tag object signed with GPG\n",
            "\n",
            "collaborate (see also: git help workflows)\n",
            "   fetch      Download objects and refs from another repository\n",
            "   pull       Fetch from and integrate with another repository or a local branch\n",
            "   push       Update remote refs along with associated objects\n",
            "\n",
            "'git help -a' and 'git help -g' list available subcommands and some\n",
            "concept guides. See 'git help <command>' or 'git help <concept>'\n",
            "to read about a specific subcommand or concept.\n"
          ],
          "name": "stdout"
        }
      ]
    },
    {
      "cell_type": "code",
      "metadata": {
        "id": "7ICIuNo3rMHU",
        "colab_type": "code",
        "colab": {
          "base_uri": "https://localhost:8080/",
          "height": 0
        },
        "outputId": "545a8e6b-3f16-43a9-add2-30c44e39f394"
      },
      "source": [
        "!git help remote "
      ],
      "execution_count": 109,
      "outputs": [
        {
          "output_type": "stream",
          "text": [
            "GIT-REMOTE(1)                     Git Manual                     GIT-REMOTE(1)\n",
            "\n",
            "N\bNA\bAM\bME\bE\n",
            "       git-remote - Manage set of tracked repositories\n",
            "\n",
            "S\bSY\bYN\bNO\bOP\bPS\bSI\bIS\bS\n",
            "       _\bg_\bi_\bt _\br_\be_\bm_\bo_\bt_\be [-v | --verbose]\n",
            "       _\bg_\bi_\bt _\br_\be_\bm_\bo_\bt_\be _\ba_\bd_\bd [-t <branch>] [-m <master>] [-f] [--[no-]tags] [--mirror=<fetch|push>] <name> <url>\n",
            "       _\bg_\bi_\bt _\br_\be_\bm_\bo_\bt_\be _\br_\be_\bn_\ba_\bm_\be <old> <new>\n",
            "       _\bg_\bi_\bt _\br_\be_\bm_\bo_\bt_\be _\br_\be_\bm_\bo_\bv_\be <name>\n",
            "       _\bg_\bi_\bt _\br_\be_\bm_\bo_\bt_\be _\bs_\be_\bt_\b-_\bh_\be_\ba_\bd <name> (-a | --auto | -d | --delete | <branch>)\n",
            "       _\bg_\bi_\bt _\br_\be_\bm_\bo_\bt_\be _\bs_\be_\bt_\b-_\bb_\br_\ba_\bn_\bc_\bh_\be_\bs [--add] <name> <branch>...\n",
            "       _\bg_\bi_\bt _\br_\be_\bm_\bo_\bt_\be _\bg_\be_\bt_\b-_\bu_\br_\bl [--push] [--all] <name>\n",
            "       _\bg_\bi_\bt _\br_\be_\bm_\bo_\bt_\be _\bs_\be_\bt_\b-_\bu_\br_\bl [--push] <name> <newurl> [<oldurl>]\n",
            "       _\bg_\bi_\bt _\br_\be_\bm_\bo_\bt_\be _\bs_\be_\bt_\b-_\bu_\br_\bl _\b-_\b-_\ba_\bd_\bd [--push] <name> <newurl>\n",
            "       _\bg_\bi_\bt _\br_\be_\bm_\bo_\bt_\be _\bs_\be_\bt_\b-_\bu_\br_\bl _\b-_\b-_\bd_\be_\bl_\be_\bt_\be [--push] <name> <url>\n",
            "       _\bg_\bi_\bt _\br_\be_\bm_\bo_\bt_\be [-v | --verbose] _\bs_\bh_\bo_\bw [-n] <name>...\n",
            "       _\bg_\bi_\bt _\br_\be_\bm_\bo_\bt_\be _\bp_\br_\bu_\bn_\be [-n | --dry-run] <name>...\n",
            "       _\bg_\bi_\bt _\br_\be_\bm_\bo_\bt_\be [-v | --verbose] _\bu_\bp_\bd_\ba_\bt_\be [-p | --prune] [(<group> | <remote>)...]\n",
            "\n",
            "D\bDE\bES\bSC\bCR\bRI\bIP\bPT\bTI\bIO\bON\bN\n",
            "       Manage the set of repositories (\"remotes\") whose branches you track.\n",
            "\n",
            "O\bOP\bPT\bTI\bIO\bON\bNS\bS\n",
            "       -v, --verbose\n",
            "           Be a little more verbose and show remote url after name. NOTE: This\n",
            "           must be placed between r\bre\bem\bmo\bot\bte\be and s\bsu\bub\bbc\bco\bom\bmm\bma\ban\bnd\bd.\n",
            "\n",
            "C\bCO\bOM\bMM\bMA\bAN\bND\bDS\bS\n",
            "       With no arguments, shows a list of existing remotes. Several\n",
            "       subcommands are available to perform operations on the remotes.\n",
            "\n",
            "       _\ba_\bd_\bd\n",
            "           Adds a remote named <name> for the repository at <url>. The command\n",
            "           g\bgi\bit\bt f\bfe\bet\btc\bch\bh <\b<n\bna\bam\bme\be>\b> can then be used to create and update\n",
            "           remote-tracking branches <name>/<branch>.\n",
            "\n",
            "           With -\b-f\bf option, g\bgi\bit\bt f\bfe\bet\btc\bch\bh <\b<n\bna\bam\bme\be>\b> is run immediately after the\n",
            "           remote information is set up.\n",
            "\n",
            "           With -\b--\b-t\bta\bag\bgs\bs option, g\bgi\bit\bt f\bfe\bet\btc\bch\bh <\b<n\bna\bam\bme\be>\b> imports every tag from the\n",
            "           remote repository.\n",
            "\n",
            "           With -\b--\b-n\bno\bo-\b-t\bta\bag\bgs\bs option, g\bgi\bit\bt f\bfe\bet\btc\bch\bh <\b<n\bna\bam\bme\be>\b> does not import tags from\n",
            "           the remote repository.\n",
            "\n",
            "           By default, only tags on fetched branches are imported (see g\bgi\bit\bt-\b-\n",
            "           f\bfe\bet\btc\bch\bh(1)).\n",
            "\n",
            "           With -\b-t\bt <\b<b\bbr\bra\ban\bnc\bch\bh>\b> option, instead of the default glob refspec for\n",
            "           the remote to track all branches under the r\bre\bef\bfs\bs/\b/r\bre\bem\bmo\bot\bte\bes\bs/\b/<\b<n\bna\bam\bme\be>\b>/\b/\n",
            "           namespace, a refspec to track only <\b<b\bbr\bra\ban\bnc\bch\bh>\b> is created. You can\n",
            "           give more than one -\b-t\bt <\b<b\bbr\bra\ban\bnc\bch\bh>\b> to track multiple branches without\n",
            "           grabbing all branches.\n",
            "\n",
            "           With -\b-m\bm <\b<m\bma\bas\bst\bte\ber\br>\b> option, a symbolic-ref r\bre\bef\bfs\bs/\b/r\bre\bem\bmo\bot\bte\bes\bs/\b/<\b<n\bna\bam\bme\be>\b>/\b/H\bHE\bEA\bAD\bD is\n",
            "           set up to point at remote’s <\b<m\bma\bas\bst\bte\ber\br>\b> branch. See also the set-head\n",
            "           command.\n",
            "\n",
            "           When a fetch mirror is created with -\b--\b-m\bmi\bir\brr\bro\bor\br=\b=f\bfe\bet\btc\bch\bh, the refs will\n",
            "           not be stored in the _\br_\be_\bf_\bs_\b/_\br_\be_\bm_\bo_\bt_\be_\bs_\b/ namespace, but rather everything\n",
            "           in _\br_\be_\bf_\bs_\b/ on the remote will be directly mirrored into _\br_\be_\bf_\bs_\b/ in the\n",
            "           local repository. This option only makes sense in bare\n",
            "           repositories, because a fetch would overwrite any local commits.\n",
            "\n",
            "           When a push mirror is created with -\b--\b-m\bmi\bir\brr\bro\bor\br=\b=p\bpu\bus\bsh\bh, then g\bgi\bit\bt p\bpu\bus\bsh\bh\n",
            "           will always behave as if -\b--\b-m\bmi\bir\brr\bro\bor\br was passed.\n",
            "\n",
            "       _\br_\be_\bn_\ba_\bm_\be\n",
            "           Rename the remote named <old> to <new>. All remote-tracking\n",
            "           branches and configuration settings for the remote are updated.\n",
            "\n",
            "           In case <old> and <new> are the same, and <old> is a file under\n",
            "           $\b$G\bGI\bIT\bT_\b_D\bDI\bIR\bR/\b/r\bre\bem\bmo\bot\bte\bes\bs or $\b$G\bGI\bIT\bT_\b_D\bDI\bIR\bR/\b/b\bbr\bra\ban\bnc\bch\bhe\bes\bs, the remote is converted to\n",
            "           the configuration file format.\n",
            "\n",
            "       _\br_\be_\bm_\bo_\bv_\be, _\br_\bm\n",
            "           Remove the remote named <name>. All remote-tracking branches and\n",
            "           configuration settings for the remote are removed.\n",
            "\n",
            "       _\bs_\be_\bt_\b-_\bh_\be_\ba_\bd\n",
            "           Sets or deletes the default branch (i.e. the target of the\n",
            "           symbolic-ref r\bre\bef\bfs\bs/\b/r\bre\bem\bmo\bot\bte\bes\bs/\b/<\b<n\bna\bam\bme\be>\b>/\b/H\bHE\bEA\bAD\bD) for the named remote. Having\n",
            "           a default branch for a remote is not required, but allows the name\n",
            "           of the remote to be specified in lieu of a specific branch. For\n",
            "           example, if the default branch for o\bor\bri\big\bgi\bin\bn is set to m\bma\bas\bst\bte\ber\br, then\n",
            "           o\bor\bri\big\bgi\bin\bn may be specified wherever you would normally specify\n",
            "           o\bor\bri\big\bgi\bin\bn/\b/m\bma\bas\bst\bte\ber\br.\n",
            "\n",
            "           With -\b-d\bd or -\b--\b-d\bde\bel\ble\bet\bte\be, the symbolic ref r\bre\bef\bfs\bs/\b/r\bre\bem\bmo\bot\bte\bes\bs/\b/<\b<n\bna\bam\bme\be>\b>/\b/H\bHE\bEA\bAD\bD is\n",
            "           deleted.\n",
            "\n",
            "           With -\b-a\ba or -\b--\b-a\bau\but\bto\bo, the remote is queried to determine its H\bHE\bEA\bAD\bD,\n",
            "           then the symbolic-ref r\bre\bef\bfs\bs/\b/r\bre\bem\bmo\bot\bte\bes\bs/\b/<\b<n\bna\bam\bme\be>\b>/\b/H\bHE\bEA\bAD\bD is set to the same\n",
            "           branch. e.g., if the remote H\bHE\bEA\bAD\bD is pointed at n\bne\bex\bxt\bt, \"g\bgi\bit\bt r\bre\bem\bmo\bot\bte\be\n",
            "           s\bse\bet\bt-\b-h\bhe\bea\bad\bd o\bor\bri\big\bgi\bin\bn -\b-a\ba\" will set the symbolic-ref\n",
            "           r\bre\bef\bfs\bs/\b/r\bre\bem\bmo\bot\bte\bes\bs/\b/o\bor\bri\big\bgi\bin\bn/\b/H\bHE\bEA\bAD\bD to r\bre\bef\bfs\bs/\b/r\bre\bem\bmo\bot\bte\bes\bs/\b/o\bor\bri\big\bgi\bin\bn/\b/n\bne\bex\bxt\bt. This will\n",
            "           only work if r\bre\bef\bfs\bs/\b/r\bre\bem\bmo\bot\bte\bes\bs/\b/o\bor\bri\big\bgi\bin\bn/\b/n\bne\bex\bxt\bt already exists; if not it\n",
            "           must be fetched first.\n",
            "\n",
            "           Use <\b<b\bbr\bra\ban\bnc\bch\bh>\b> to set the symbolic-ref r\bre\bef\bfs\bs/\b/r\bre\bem\bmo\bot\bte\bes\bs/\b/<\b<n\bna\bam\bme\be>\b>/\b/H\bHE\bEA\bAD\bD\n",
            "           explicitly. e.g., \"git remote set-head origin master\" will set the\n",
            "           symbolic-ref r\bre\bef\bfs\bs/\b/r\bre\bem\bmo\bot\bte\bes\bs/\b/o\bor\bri\big\bgi\bin\bn/\b/H\bHE\bEA\bAD\bD to\n",
            "           r\bre\bef\bfs\bs/\b/r\bre\bem\bmo\bot\bte\bes\bs/\b/o\bor\bri\big\bgi\bin\bn/\b/m\bma\bas\bst\bte\ber\br. This will only work if\n",
            "           r\bre\bef\bfs\bs/\b/r\bre\bem\bmo\bot\bte\bes\bs/\b/o\bor\bri\big\bgi\bin\bn/\b/m\bma\bas\bst\bte\ber\br already exists; if not it must be\n",
            "           fetched first.\n",
            "\n",
            "       _\bs_\be_\bt_\b-_\bb_\br_\ba_\bn_\bc_\bh_\be_\bs\n",
            "           Changes the list of branches tracked by the named remote. This can\n",
            "           be used to track a subset of the available remote branches after\n",
            "           the initial setup for a remote.\n",
            "\n",
            "           The named branches will be interpreted as if specified with the -\b-t\bt\n",
            "           option on the _\bg_\bi_\bt _\br_\be_\bm_\bo_\bt_\be _\ba_\bd_\bd command line.\n",
            "\n",
            "           With -\b--\b-a\bad\bdd\bd, instead of replacing the list of currently tracked\n",
            "           branches, adds to that list.\n",
            "\n",
            "       _\bg_\be_\bt_\b-_\bu_\br_\bl\n",
            "           Retrieves the URLs for a remote. Configurations for i\bin\bns\bst\bte\bea\bad\bdO\bOf\bf and\n",
            "           p\bpu\bus\bsh\bhI\bIn\bns\bst\bte\bea\bad\bdO\bOf\bf are expanded here. By default, only the first URL is\n",
            "           listed.\n",
            "\n",
            "           With -\b--\b-p\bpu\bus\bsh\bh, push URLs are queried rather than fetch URLs.\n",
            "\n",
            "           With -\b--\b-a\bal\bll\bl, all URLs for the remote will be listed.\n",
            "\n",
            "       _\bs_\be_\bt_\b-_\bu_\br_\bl\n",
            "           Changes URLs for the remote. Sets first URL for remote <name> that\n",
            "           matches regex <oldurl> (first URL if no <oldurl> is given) to\n",
            "           <newurl>. If <oldurl> doesn’t match any URL, an error occurs and\n",
            "           nothing is changed.\n",
            "\n",
            "           With -\b--\b-p\bpu\bus\bsh\bh, push URLs are manipulated instead of fetch URLs.\n",
            "\n",
            "           With -\b--\b-a\bad\bdd\bd, instead of changing existing URLs, new URL is added.\n",
            "\n",
            "           With -\b--\b-d\bde\bel\ble\bet\bte\be, instead of changing existing URLs, all URLs matching\n",
            "           regex <url> are deleted for remote <name>. Trying to delete all\n",
            "           non-push URLs is an error.\n",
            "\n",
            "           Note that the push URL and the fetch URL, even though they can be\n",
            "           set differently, must still refer to the same place. What you\n",
            "           pushed to the push URL should be what you would see if you\n",
            "           immediately fetched from the fetch URL. If you are trying to fetch\n",
            "           from one place (e.g. your upstream) and push to another (e.g. your\n",
            "           publishing repository), use two separate remotes.\n",
            "\n",
            "       _\bs_\bh_\bo_\bw\n",
            "           Gives some information about the remote <name>.\n",
            "\n",
            "           With -\b-n\bn option, the remote heads are not queried first with g\bgi\bit\bt\n",
            "           l\bls\bs-\b-r\bre\bem\bmo\bot\bte\be <\b<n\bna\bam\bme\be>\b>; cached information is used instead.\n",
            "\n",
            "       _\bp_\br_\bu_\bn_\be\n",
            "           Deletes stale references associated with <name>. By default, stale\n",
            "           remote-tracking branches under <name> are deleted, but depending on\n",
            "           global configuration and the configuration of the remote we might\n",
            "           even prune local tags that haven’t been pushed there. Equivalent to\n",
            "           g\bgi\bit\bt f\bfe\bet\btc\bch\bh -\b--\b-p\bpr\bru\bun\bne\be <\b<n\bna\bam\bme\be>\b>, except that no new references will be\n",
            "           fetched.\n",
            "\n",
            "           See the PRUNING section of g\bgi\bit\bt-\b-f\bfe\bet\btc\bch\bh(1) for what it’ll prune\n",
            "           depending on various configuration.\n",
            "\n",
            "           With -\b--\b-d\bdr\bry\by-\b-r\bru\bun\bn option, report what branches will be pruned, but do\n",
            "           not actually prune them.\n",
            "\n",
            "       _\bu_\bp_\bd_\ba_\bt_\be\n",
            "           Fetch updates for a named set of remotes in the repository as\n",
            "           defined by remotes.<group>. If a named group is not specified on\n",
            "           the command line, the configuration parameter remotes.default will\n",
            "           be used; if remotes.default is not defined, all remotes which do\n",
            "           not have the configuration parameter\n",
            "           remote.<name>.skipDefaultUpdate set to true will be updated. (See\n",
            "           g\bgi\bit\bt-\b-c\bco\bon\bnf\bfi\big\bg(1)).\n",
            "\n",
            "           With -\b--\b-p\bpr\bru\bun\bne\be option, run pruning against all the remotes that are\n",
            "           updated.\n",
            "\n",
            "D\bDI\bIS\bSC\bCU\bUS\bSS\bSI\bIO\bON\bN\n",
            "       The remote configuration is achieved using the r\bre\bem\bmo\bot\bte\be.\b.o\bor\bri\big\bgi\bin\bn.\b.u\bur\brl\bl and\n",
            "       r\bre\bem\bmo\bot\bte\be.\b.o\bor\bri\big\bgi\bin\bn.\b.f\bfe\bet\btc\bch\bh configuration variables. (See g\bgi\bit\bt-\b-c\bco\bon\bnf\bfi\big\bg(1)).\n",
            "\n",
            "E\bEX\bXA\bAM\bMP\bPL\bLE\bES\bS\n",
            "       ·   Add a new remote, fetch, and check out a branch from it\n",
            "\n",
            "               $ git remote\n",
            "               origin\n",
            "               $ git branch -r\n",
            "                 origin/HEAD -> origin/master\n",
            "                 origin/master\n",
            "               $ git remote add staging git://git.kernel.org/.../gregkh/staging.git\n",
            "               $ git remote\n",
            "               origin\n",
            "               staging\n",
            "               $ git fetch staging\n",
            "               ...\n",
            "               From git://git.kernel.org/pub/scm/linux/kernel/git/gregkh/staging\n",
            "                * [new branch]      master     -> staging/master\n",
            "                * [new branch]      staging-linus -> staging/staging-linus\n",
            "                * [new branch]      staging-next -> staging/staging-next\n",
            "               $ git branch -r\n",
            "                 origin/HEAD -> origin/master\n",
            "                 origin/master\n",
            "                 staging/master\n",
            "                 staging/staging-linus\n",
            "                 staging/staging-next\n",
            "               $ git checkout -b staging staging/master\n",
            "               ...\n",
            "\n",
            "       ·   Imitate _\bg_\bi_\bt _\bc_\bl_\bo_\bn_\be but track only selected branches\n",
            "\n",
            "               $ mkdir project.git\n",
            "               $ cd project.git\n",
            "               $ git init\n",
            "               $ git remote add -f -t master -m master origin git://example.com/git.git/\n",
            "               $ git merge origin\n",
            "\n",
            "S\bSE\bEE\bE A\bAL\bLS\bSO\bO\n",
            "       g\bgi\bit\bt-\b-f\bfe\bet\btc\bch\bh(1) g\bgi\bit\bt-\b-b\bbr\bra\ban\bnc\bch\bh(1) g\bgi\bit\bt-\b-c\bco\bon\bnf\bfi\big\bg(1)\n",
            "\n",
            "G\bGI\bIT\bT\n",
            "       Part of the g\bgi\bit\bt(1) suite\n",
            "\n",
            "Git 2.17.1                        04/20/2020                     GIT-REMOTE(1)\n"
          ],
          "name": "stdout"
        }
      ]
    },
    {
      "cell_type": "markdown",
      "metadata": {
        "id": "dVbkvc2ytYbT",
        "colab_type": "text"
      },
      "source": [
        "### Check inside `.git` directory under project-home"
      ]
    },
    {
      "cell_type": "code",
      "metadata": {
        "id": "hUUSaUgosoBf",
        "colab_type": "code",
        "colab": {
          "base_uri": "https://localhost:8080/",
          "height": 0
        },
        "outputId": "5d55e2c2-bdfe-4cd3-f963-d4da53f5480c"
      },
      "source": [
        "!ls -la Manning-Phishing-Websites-Detection/.git"
      ],
      "execution_count": 112,
      "outputs": [
        {
          "output_type": "stream",
          "text": [
            "total 52\n",
            "drwxr-xr-x  8 root root 4096 May  8 03:57 .\n",
            "drwxr-xr-x  5 root root 4096 May  8 05:02 ..\n",
            "drwxr-xr-x  2 root root 4096 May  8 03:57 branches\n",
            "-rw-r--r--  1 root root  293 May  8 03:57 config\n",
            "-rw-r--r--  1 root root   73 May  8 03:57 description\n",
            "-rw-r--r--  1 root root   23 May  8 03:57 HEAD\n",
            "drwxr-xr-x  2 root root 4096 May  8 03:57 hooks\n",
            "-rw-r--r--  1 root root  297 May  8 03:57 index\n",
            "drwxr-xr-x  2 root root 4096 May  8 03:57 info\n",
            "drwxr-xr-x  3 root root 4096 May  8 03:57 logs\n",
            "drwxr-xr-x 19 root root 4096 May  8 03:57 objects\n",
            "-rw-r--r--  1 root root  114 May  8 03:57 packed-refs\n",
            "drwxr-xr-x  5 root root 4096 May  8 03:57 refs\n"
          ],
          "name": "stdout"
        }
      ]
    },
    {
      "cell_type": "markdown",
      "metadata": {
        "id": "E1hZuGf5trmH",
        "colab_type": "text"
      },
      "source": [
        "### Inspect contents of `project-home/.git/config` file "
      ]
    },
    {
      "cell_type": "code",
      "metadata": {
        "id": "nfC2GpALstZc",
        "colab_type": "code",
        "colab": {
          "base_uri": "https://localhost:8080/",
          "height": 204
        },
        "outputId": "68ed1667-e167-4f96-a0ed-e7bd185001be"
      },
      "source": [
        "!cat Manning-Phishing-Websites-Detection/.git/config"
      ],
      "execution_count": 113,
      "outputs": [
        {
          "output_type": "stream",
          "text": [
            "[core]\n",
            "\trepositoryformatversion = 0\n",
            "\tfilemode = true\n",
            "\tbare = false\n",
            "\tlogallrefupdates = true\n",
            "[remote \"origin\"]\n",
            "\turl = https://github.com/sugatoray/Manning-Phishing-Websites-Detection.git\n",
            "\tfetch = +refs/heads/*:refs/remotes/origin/*\n",
            "[branch \"master\"]\n",
            "\tremote = origin\n",
            "\tmerge = refs/heads/master\n"
          ],
          "name": "stdout"
        }
      ]
    },
    {
      "cell_type": "markdown",
      "metadata": {
        "id": "rHJOJ0VYvxRy",
        "colab_type": "text"
      },
      "source": [
        "### Start Committing to Repo"
      ]
    },
    {
      "cell_type": "code",
      "metadata": {
        "id": "0C7IBZkYuglT",
        "colab_type": "code",
        "colab": {
          "base_uri": "https://localhost:8080/",
          "height": 34
        },
        "outputId": "65f9b190-7cd7-43c0-dcb8-94df80bf9d65"
      },
      "source": [
        "home"
      ],
      "execution_count": 119,
      "outputs": [
        {
          "output_type": "execute_result",
          "data": {
            "text/plain": [
              "'/content/Manning-Phishing-Websites-Detection'"
            ]
          },
          "metadata": {
            "tags": []
          },
          "execution_count": 119
        }
      ]
    },
    {
      "cell_type": "code",
      "metadata": {
        "id": "Z-m8tyeiuj42",
        "colab_type": "code",
        "colab": {}
      },
      "source": [
        "os.chdir(home)"
      ],
      "execution_count": 0,
      "outputs": []
    },
    {
      "cell_type": "code",
      "metadata": {
        "id": "gD4nbGKQtDQk",
        "colab_type": "code",
        "colab": {
          "base_uri": "https://localhost:8080/",
          "height": 170
        },
        "outputId": "1a129f40-e505-442f-e56f-fcf5a28266d2"
      },
      "source": [
        "!git status"
      ],
      "execution_count": 121,
      "outputs": [
        {
          "output_type": "stream",
          "text": [
            "On branch master\n",
            "Your branch is up to date with 'origin/master'.\n",
            "\n",
            "Untracked files:\n",
            "  (use \"git add <file>...\" to include in what will be committed)\n",
            "\n",
            "\t\u001b[31msrc/\u001b[m\n",
            "\n",
            "nothing added to commit but untracked files present (use \"git add\" to track)\n"
          ],
          "name": "stdout"
        }
      ]
    },
    {
      "cell_type": "code",
      "metadata": {
        "id": "s6FF0ILVuHoQ",
        "colab_type": "code",
        "colab": {}
      },
      "source": [
        "!git add ."
      ],
      "execution_count": 0,
      "outputs": []
    },
    {
      "cell_type": "code",
      "metadata": {
        "id": "pW_OHkOCus47",
        "colab_type": "code",
        "colab": {
          "base_uri": "https://localhost:8080/",
          "height": 68
        },
        "outputId": "b7d943f0-b91a-4fea-983b-04441a9e5ae0"
      },
      "source": [
        "!git commit -m \"first commit\""
      ],
      "execution_count": 124,
      "outputs": [
        {
          "output_type": "stream",
          "text": [
            "[master cd11fc3] first commit\n",
            " 1 file changed, 18151 insertions(+)\n",
            " create mode 100644 src/stage1/profile_report.html\n"
          ],
          "name": "stdout"
        }
      ]
    },
    {
      "cell_type": "code",
      "metadata": {
        "id": "mmC2XIWYvC-a",
        "colab_type": "code",
        "colab": {
          "base_uri": "https://localhost:8080/",
          "height": 34
        },
        "outputId": "1915faac-263a-40f2-81b3-c1e98d8a2a0a"
      },
      "source": [
        "!git push origin master"
      ],
      "execution_count": 129,
      "outputs": [
        {
          "output_type": "stream",
          "text": [
            "fatal: could not read Username for 'https://github.com': No such device or address\n"
          ],
          "name": "stdout"
        }
      ]
    },
    {
      "cell_type": "markdown",
      "metadata": {
        "id": "mxduxqDqzA3k",
        "colab_type": "text"
      },
      "source": [
        "## Current Status\n",
        "\n",
        "Could not commit to git because of this error:\n",
        "\n",
        "```\n",
        "!git push origin master\n",
        "```\n",
        "Output:  \n",
        "```\n",
        "fatal: could not read Username for 'https://github.com': No such device or address\n",
        "```\n",
        "\n",
        "### Possible solution\n",
        "\n",
        "1. https://medium.com/@navan0/how-to-push-files-into-github-from-google-colab-379fd0077aa8\n",
        "\n",
        "1. https://stackoverflow.com/questions/22147574/fatal-could-not-read-username-for-https-github-com-no-such-file-or-directo\n",
        "\n",
        "1. https://unix.stackexchange.com/questions/33617/how-can-i-update-to-a-newer-version-of-git-using-apt-get"
      ]
    },
    {
      "cell_type": "code",
      "metadata": {
        "id": "kYD7zRS9xC5d",
        "colab_type": "code",
        "colab": {}
      },
      "source": [
        ""
      ],
      "execution_count": 0,
      "outputs": []
    }
  ]
}